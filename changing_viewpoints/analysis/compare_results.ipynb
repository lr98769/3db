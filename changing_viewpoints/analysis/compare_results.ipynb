{
 "metadata": {
  "language_info": {
   "codemirror_mode": {
    "name": "ipython",
    "version": 3
   },
   "file_extension": ".py",
   "mimetype": "text/x-python",
   "name": "python",
   "nbconvert_exporter": "python",
   "pygments_lexer": "ipython3",
   "version": "3.6.9"
  },
  "orig_nbformat": 4,
  "kernelspec": {
   "name": "python3",
   "display_name": "Python 3.6.9 64-bit"
  },
  "interpreter": {
   "hash": "31f2aee4e71d21fbe5cf8b01ff0e069b9275f58929596ceb00d14d90e3e16cd6"
  }
 },
 "nbformat": 4,
 "nbformat_minor": 2,
 "cells": [
  {
   "source": [
    "# Analysing accuracy of robust and non-robust models\n",
    "## 1. Individual Analysis"
   ],
   "cell_type": "markdown",
   "metadata": {}
  },
  {
   "cell_type": "code",
   "execution_count": 30,
   "metadata": {},
   "outputs": [],
   "source": [
    "class AnalysisModule:\n",
    "    \"\"\" Module for easy analysis of details.log json file and rgb images \"\"\"\n",
    "\n",
    "    def __init__(self, file_location):\n",
    "        self.file_location = file_location\n",
    "        self.image_location = file_location + \"images/\"\n",
    "        self.df = self._loadDetailsJson(file_location)\n",
    "        self.varyingVariables = self._outputVaryingVariables()\n",
    "\n",
    "    def _loadDetailsJson(self, file_location):\n",
    "        \"\"\" load json detail.log \"\"\"\n",
    "        import pandas as pd \n",
    "        import numpy as np\n",
    "        import json\n",
    "        class_map = json.load(open(file_location+'class_maps.json'))\n",
    "        df = pd.DataFrame.from_records(list(map(json.loads, open(file_location+'details.log').readlines())))\n",
    "        df = df.drop('render_args', axis=1).join(pd.DataFrame(df.render_args.values.tolist()))\n",
    "        df['prediction'] = df['prediction'].apply(lambda x: class_map[x[0]])\n",
    "        df['is_correct'] = (df['is_correct'] == 'True') \n",
    "        return df\n",
    "    \n",
    "    def _outputVaryingVariables(self):\n",
    "        \"\"\" Get list of dependent variables \"\"\"\n",
    "        varying_variables = []\n",
    "        #ignore columns 0-3 ('is_correct', 'loss', 'prediction', 'id')\n",
    "        for colname in self.df.columns[4:]:\n",
    "            if (self.df[colname].dtype == \"object\"): # if it is not numeric\n",
    "                if (self.df[colname].nunique() > 1):\n",
    "                    varying_variables.append(colname)\n",
    "            else: # if it is numeric\n",
    "                if (self.df[colname].var() > 0.0001): \n",
    "                    varying_variables.append(colname)\n",
    "        return varying_variables\n",
    "\n",
    "    def variableSettingAccuracies(self, variable_name):\n",
    "        \"\"\" Accuracy on one variable, across different values \"\"\"\n",
    "        if (variable_name in self.varyingVariables):\n",
    "            return self.df.groupby(variable_name).agg(\n",
    "                accuracy=('is_correct', 'mean')\n",
    "               ).sort_values(['accuracy'],ascending=True)\n",
    "        else:\n",
    "            print(\"Variable name either does not exist in the dataframe or remains constant through the experiment\")\n",
    "            print(\"Valid Variable Entries: \"+ str(self.varyingVariables))\n",
    "            print(\"To get overall accuracy use .overallAccuracy()\")\n",
    "\n",
    "    def overallAccuracy(self):\n",
    "        \"\"\" Accuracy across all variables \"\"\"\n",
    "        print(\"Overall Accuracy: \"+str(self.df['is_correct'].mean()))\n",
    "\n",
    "    def varianceOfVariableAccuracies(self):\n",
    "        \"\"\" Which variables affects accuracy the most (changing of settings cause drastic changes in accuracy) \"\"\"\n",
    "        import pandas as pd \n",
    "        variances = {}\n",
    "        for i, colname in enumerate(self.varyingVariables):\n",
    "            variances[colname] = [float(self.df.groupby(colname).agg(accuracy=('is_correct', 'mean')).var())]\n",
    "        return pd.DataFrame(variances).transpose().rename({0: 'Accuracy Variance'}, axis=1).sort_values(['Accuracy Variance'],ascending=False)\n",
    "\n",
    "    def lowestAccuracyPerVariable(self):\n",
    "        \"\"\" Which setting in each variable yield the lowest accuracy? \"\"\"\n",
    "        import pandas as pd \n",
    "        lowestAccuracies = {}\n",
    "        for i, colname in enumerate(self.varyingVariables):\n",
    "            variableSettingAccuracies = self.variableSettingAccuracies(colname)\n",
    "            lowestAccuracies[colname] = [variableSettingAccuracies[\"accuracy\"].idxmin(), \n",
    "                                        variableSettingAccuracies[\"accuracy\"].min()]\n",
    "        return pd.DataFrame(lowestAccuracies).transpose().rename({0: 'lowest_setting', \n",
    "                                                                    1:'lowest_accuracy'}, axis=1).sort_index()\n",
    "    \n",
    "    def _filterImageIds(self, filter_input):\n",
    "        \"\"\"\n",
    "        Get list of ids of images that pass through the filters\n",
    "\n",
    "        Filter_input should be in this format (inclusive of edges):\n",
    "\n",
    "            filter_input = { \n",
    "                'HazeControl.haze_fac' : 0,\n",
    "                'OrbitingCameraControl.theta': (0, 1.57),\n",
    "                'RainControl.n_layers_of_rain': (0, 3),\n",
    "                'SunControl.elevation': 0\n",
    "            }\n",
    "            \n",
    "        \"\"\"\n",
    "        filtered_df = self.df.copy()\n",
    "        for key, value in filter_input.items():\n",
    "            if (type(value) is tuple):\n",
    "                filtered_df = filtered_df.loc[(filtered_df[key]<=value[1]) & (filtered_df[key]>=value[0])]\n",
    "            else:\n",
    "                filtered_df = filtered_df.loc[filtered_df[key]==value]\n",
    "        return filtered_df['id'].tolist()\n",
    "\n",
    "    def _getImageLabel(self, image_id, displayed_values):\n",
    "        \"\"\" Get label of an image \"\"\"\n",
    "        dictionaryToDisplay = self.df[self.df['id']==image_id][displayed_values].to_dict('records')[0]\n",
    "        label = \"\"\n",
    "        for key, value in dictionaryToDisplay.items():\n",
    "            label += str(key)+\": \"+ str(value)+\"\\n\"\n",
    "        return label\n",
    "    \n",
    "    def _getImageCorrect(self, image_id):\n",
    "        import pandas as pd \n",
    "        \"\"\" Find out if image was correctly predicted by the model. \"\"\"\n",
    "        return self.df[self.df[\"id\"]==image_id]['is_correct'].bool()\n",
    "\n",
    "    def _getImagePrediction(self, image_id):\n",
    "        \"\"\" Find out if image was correctly predicted by the model. \"\"\"\n",
    "        import pandas as pd \n",
    "        return self.df[self.df[\"id\"]==image_id]['prediction'].to_string(index=False)\n",
    "\n",
    "    def getFilteredImages(self, filter_input, columns=4, displayed_values=[]):\n",
    "        \"\"\" Display Filtered Images \"\"\"\n",
    "        from math import ceil\n",
    "        import matplotlib.pyplot as plt\n",
    "        from matplotlib.image import imread\n",
    "\n",
    "        #ensure that columns in displayed_values can be found in the dataframe\n",
    "        if (not (all(elem in self.df.columns for elem in displayed_values))):\n",
    "            print(\"Not all columns in display_values are in the dataframe\")\n",
    "            return\n",
    "        elif (len(displayed_values)==0): #if no values entered for displayed_values\n",
    "            displayed_values=self.varyingVariables\n",
    "        \n",
    "        #ensure that we are filtering by existent columns in the dataframe\n",
    "        if (not (all(elem in self.df.columns for elem in filter_input))):\n",
    "            print(\"Not all columns in filter_input are in the dataframe\")\n",
    "            return\n",
    "\n",
    "        # Get number of rows\n",
    "        image_ids = self._filterImageIds(filter_input)\n",
    "        num_images = len(image_ids)\n",
    "        rows = ceil(num_images/columns)\n",
    "\n",
    "        #if there are no images\n",
    "        if (len(image_ids)<=0):\n",
    "            print(\"There are no images.\")\n",
    "            return\n",
    "\n",
    "        #if there are images\n",
    "\n",
    "        #Get figure height\n",
    "        figure_width = 20\n",
    "        size_of_each_image = figure_width/columns\n",
    "        size_of_each_line_in_label = 0.5\n",
    "        number_of_displayed_values = len(displayed_values)\n",
    "        size_of_image_label = size_of_each_image + size_of_each_line_in_label*number_of_displayed_values \n",
    "        figure_height = rows * size_of_image_label\n",
    "\n",
    "        #plot images\n",
    "        plt.figure(figsize=(figure_width, figure_height))\n",
    "        for i, image_id in enumerate(image_ids):\n",
    "            image_filename = self.image_location + image_id + \"_rgb.png\"\n",
    "            ax = plt.subplot(rows, columns, i + 1)\n",
    "            plt.title(self._getImageLabel(image_id, displayed_values))\n",
    "            color = \"green\" if self._getImageCorrect(image_id) else \"red\"\n",
    "            for spine in ax.spines.values():\n",
    "                spine.set_edgecolor(color)\n",
    "                spine.set_linewidth(7)\n",
    "            ax.text(9, 17, self._getImagePrediction(image_id),\n",
    "                bbox={'facecolor': 'white', 'alpha': 1, 'pad': 4})\n",
    "            plt.imshow(imread(image_filename))\n",
    "        plt.show()\n",
    "\n",
    "    def getVariableLineGraph(self, variable):\n",
    "        \"\"\" Plot line graph between varying variable (eg. intensity of haze) and accuracy\"\"\"\n",
    "        import pandas as pd\n",
    "        if (variable not in self.df.columns):\n",
    "            print(\"This variable cannot be found in the dataframe\")\n",
    "            return\n",
    "        elif (variable not in self.varyingVariables):\n",
    "            print(\"This variable remains constant throughout all images\")\n",
    "            return\n",
    "        variable_dataframe = self.variableSettingAccuracies(variable).sort_index()\n",
    "        variable_dataframe.plot.line(y='accuracy')\n",
    "    \n",
    "    def getVariableCorrelation(self, variable):\n",
    "        \"\"\" Get correlation between a continuous variable and accuracy\"\"\"\n",
    "        import pandas as pd\n",
    "        if (variable not in self.df.columns):\n",
    "            print(\"This variable cannot be found in the dataframe\")\n",
    "            return\n",
    "        elif (variable not in self.varyingVariables):\n",
    "            print(\"This variable remains constant throughout all images\")\n",
    "            return\n",
    "        variable_dataframe = self.variableSettingAccuracies(variable)\n",
    "        pcc  = variable_dataframe[\"accuracy\"].corr(variable_dataframe.index.to_series())\n",
    "        print(\"Pearson's Correlation Coefficient: \"+str(pcc))"
   ]
  },
  {
   "cell_type": "code",
   "execution_count": 67,
   "metadata": {},
   "outputs": [],
   "source": [
    "non_robust = AnalysisModule(\"../non_robust/results/\")"
   ]
  },
  {
   "cell_type": "code",
   "execution_count": 13,
   "metadata": {},
   "outputs": [
    {
     "output_type": "execute_result",
     "data": {
      "text/plain": [
       "['OrbitingCameraControl.phi', 'OrbitingCameraControl.theta']"
      ]
     },
     "metadata": {},
     "execution_count": 13
    }
   ],
   "source": [
    "non_robust.varyingVariables"
   ]
  },
  {
   "cell_type": "code",
   "execution_count": 35,
   "metadata": {},
   "outputs": [
    {
     "output_type": "execute_result",
     "data": {
      "text/plain": [
       "                           accuracy\n",
       "OrbitingCameraControl.phi          \n",
       "0.000000                        0.0\n",
       "0.174444                        0.0\n",
       "0.348889                        0.0\n",
       "0.523333                        0.0\n",
       "1.046667                        0.1\n",
       "0.697778                        0.2\n",
       "0.872222                        0.2\n",
       "1.221111                        0.2\n",
       "1.395556                        0.3\n",
       "1.570000                        0.4"
      ],
      "text/html": "<div>\n<style scoped>\n    .dataframe tbody tr th:only-of-type {\n        vertical-align: middle;\n    }\n\n    .dataframe tbody tr th {\n        vertical-align: top;\n    }\n\n    .dataframe thead th {\n        text-align: right;\n    }\n</style>\n<table border=\"1\" class=\"dataframe\">\n  <thead>\n    <tr style=\"text-align: right;\">\n      <th></th>\n      <th>accuracy</th>\n    </tr>\n    <tr>\n      <th>OrbitingCameraControl.phi</th>\n      <th></th>\n    </tr>\n  </thead>\n  <tbody>\n    <tr>\n      <th>0.000000</th>\n      <td>0.0</td>\n    </tr>\n    <tr>\n      <th>0.174444</th>\n      <td>0.0</td>\n    </tr>\n    <tr>\n      <th>0.348889</th>\n      <td>0.0</td>\n    </tr>\n    <tr>\n      <th>0.523333</th>\n      <td>0.0</td>\n    </tr>\n    <tr>\n      <th>1.046667</th>\n      <td>0.1</td>\n    </tr>\n    <tr>\n      <th>0.697778</th>\n      <td>0.2</td>\n    </tr>\n    <tr>\n      <th>0.872222</th>\n      <td>0.2</td>\n    </tr>\n    <tr>\n      <th>1.221111</th>\n      <td>0.2</td>\n    </tr>\n    <tr>\n      <th>1.395556</th>\n      <td>0.3</td>\n    </tr>\n    <tr>\n      <th>1.570000</th>\n      <td>0.4</td>\n    </tr>\n  </tbody>\n</table>\n</div>"
     },
     "metadata": {},
     "execution_count": 35
    }
   ],
   "source": [
    "non_robust.variableSettingAccuracies('OrbitingCameraControl.phi')"
   ]
  },
  {
   "cell_type": "code",
   "execution_count": 36,
   "metadata": {},
   "outputs": [
    {
     "output_type": "execute_result",
     "data": {
      "text/plain": [
       "                             accuracy\n",
       "OrbitingCameraControl.theta          \n",
       "-3.140000                         0.0\n",
       "-2.442222                         0.0\n",
       "-0.348889                         0.0\n",
       " 0.348889                         0.0\n",
       " 2.442222                         0.0\n",
       " 3.140000                         0.0\n",
       " 1.744444                         0.1\n",
       "-1.744444                         0.3\n",
       "-1.046667                         0.5\n",
       " 1.046667                         0.5"
      ],
      "text/html": "<div>\n<style scoped>\n    .dataframe tbody tr th:only-of-type {\n        vertical-align: middle;\n    }\n\n    .dataframe tbody tr th {\n        vertical-align: top;\n    }\n\n    .dataframe thead th {\n        text-align: right;\n    }\n</style>\n<table border=\"1\" class=\"dataframe\">\n  <thead>\n    <tr style=\"text-align: right;\">\n      <th></th>\n      <th>accuracy</th>\n    </tr>\n    <tr>\n      <th>OrbitingCameraControl.theta</th>\n      <th></th>\n    </tr>\n  </thead>\n  <tbody>\n    <tr>\n      <th>-3.140000</th>\n      <td>0.0</td>\n    </tr>\n    <tr>\n      <th>-2.442222</th>\n      <td>0.0</td>\n    </tr>\n    <tr>\n      <th>-0.348889</th>\n      <td>0.0</td>\n    </tr>\n    <tr>\n      <th>0.348889</th>\n      <td>0.0</td>\n    </tr>\n    <tr>\n      <th>2.442222</th>\n      <td>0.0</td>\n    </tr>\n    <tr>\n      <th>3.140000</th>\n      <td>0.0</td>\n    </tr>\n    <tr>\n      <th>1.744444</th>\n      <td>0.1</td>\n    </tr>\n    <tr>\n      <th>-1.744444</th>\n      <td>0.3</td>\n    </tr>\n    <tr>\n      <th>-1.046667</th>\n      <td>0.5</td>\n    </tr>\n    <tr>\n      <th>1.046667</th>\n      <td>0.5</td>\n    </tr>\n  </tbody>\n</table>\n</div>"
     },
     "metadata": {},
     "execution_count": 36
    }
   ],
   "source": [
    "non_robust.variableSettingAccuracies('OrbitingCameraControl.theta')"
   ]
  },
  {
   "cell_type": "code",
   "execution_count": 66,
   "metadata": {},
   "outputs": [],
   "source": [
    "robust = AnalysisModule(\"../robust/results/\")"
   ]
  },
  {
   "cell_type": "code",
   "execution_count": 39,
   "metadata": {},
   "outputs": [
    {
     "output_type": "stream",
     "name": "stdout",
     "text": [
      "Overall Accuracy: 0.02\n"
     ]
    }
   ],
   "source": [
    "robust.overallAccuracy()"
   ]
  },
  {
   "cell_type": "code",
   "execution_count": 42,
   "metadata": {},
   "outputs": [
    {
     "output_type": "execute_result",
     "data": {
      "text/plain": [
       "                           accuracy\n",
       "OrbitingCameraControl.phi          \n",
       "0.000000                        0.0\n",
       "0.174444                        0.0\n",
       "0.348889                        0.0\n",
       "0.523333                        0.0\n",
       "0.697778                        0.0\n",
       "0.872222                        0.0\n",
       "1.221111                        0.0\n",
       "1.395556                        0.0\n",
       "1.046667                        0.1\n",
       "1.570000                        0.1"
      ],
      "text/html": "<div>\n<style scoped>\n    .dataframe tbody tr th:only-of-type {\n        vertical-align: middle;\n    }\n\n    .dataframe tbody tr th {\n        vertical-align: top;\n    }\n\n    .dataframe thead th {\n        text-align: right;\n    }\n</style>\n<table border=\"1\" class=\"dataframe\">\n  <thead>\n    <tr style=\"text-align: right;\">\n      <th></th>\n      <th>accuracy</th>\n    </tr>\n    <tr>\n      <th>OrbitingCameraControl.phi</th>\n      <th></th>\n    </tr>\n  </thead>\n  <tbody>\n    <tr>\n      <th>0.000000</th>\n      <td>0.0</td>\n    </tr>\n    <tr>\n      <th>0.174444</th>\n      <td>0.0</td>\n    </tr>\n    <tr>\n      <th>0.348889</th>\n      <td>0.0</td>\n    </tr>\n    <tr>\n      <th>0.523333</th>\n      <td>0.0</td>\n    </tr>\n    <tr>\n      <th>0.697778</th>\n      <td>0.0</td>\n    </tr>\n    <tr>\n      <th>0.872222</th>\n      <td>0.0</td>\n    </tr>\n    <tr>\n      <th>1.221111</th>\n      <td>0.0</td>\n    </tr>\n    <tr>\n      <th>1.395556</th>\n      <td>0.0</td>\n    </tr>\n    <tr>\n      <th>1.046667</th>\n      <td>0.1</td>\n    </tr>\n    <tr>\n      <th>1.570000</th>\n      <td>0.1</td>\n    </tr>\n  </tbody>\n</table>\n</div>"
     },
     "metadata": {},
     "execution_count": 42
    }
   ],
   "source": [
    "robust.variableSettingAccuracies('OrbitingCameraControl.phi')"
   ]
  },
  {
   "cell_type": "code",
   "execution_count": 44,
   "metadata": {},
   "outputs": [
    {
     "output_type": "execute_result",
     "data": {
      "text/plain": [
       "                             accuracy\n",
       "OrbitingCameraControl.theta          \n",
       "-3.140000                         0.0\n",
       "-2.442222                         0.0\n",
       "-0.348889                         0.0\n",
       " 0.348889                         0.0\n",
       " 1.046667                         0.0\n",
       " 1.744444                         0.0\n",
       " 2.442222                         0.0\n",
       " 3.140000                         0.0\n",
       "-1.744444                         0.1\n",
       "-1.046667                         0.1"
      ],
      "text/html": "<div>\n<style scoped>\n    .dataframe tbody tr th:only-of-type {\n        vertical-align: middle;\n    }\n\n    .dataframe tbody tr th {\n        vertical-align: top;\n    }\n\n    .dataframe thead th {\n        text-align: right;\n    }\n</style>\n<table border=\"1\" class=\"dataframe\">\n  <thead>\n    <tr style=\"text-align: right;\">\n      <th></th>\n      <th>accuracy</th>\n    </tr>\n    <tr>\n      <th>OrbitingCameraControl.theta</th>\n      <th></th>\n    </tr>\n  </thead>\n  <tbody>\n    <tr>\n      <th>-3.140000</th>\n      <td>0.0</td>\n    </tr>\n    <tr>\n      <th>-2.442222</th>\n      <td>0.0</td>\n    </tr>\n    <tr>\n      <th>-0.348889</th>\n      <td>0.0</td>\n    </tr>\n    <tr>\n      <th>0.348889</th>\n      <td>0.0</td>\n    </tr>\n    <tr>\n      <th>1.046667</th>\n      <td>0.0</td>\n    </tr>\n    <tr>\n      <th>1.744444</th>\n      <td>0.0</td>\n    </tr>\n    <tr>\n      <th>2.442222</th>\n      <td>0.0</td>\n    </tr>\n    <tr>\n      <th>3.140000</th>\n      <td>0.0</td>\n    </tr>\n    <tr>\n      <th>-1.744444</th>\n      <td>0.1</td>\n    </tr>\n    <tr>\n      <th>-1.046667</th>\n      <td>0.1</td>\n    </tr>\n  </tbody>\n</table>\n</div>"
     },
     "metadata": {},
     "execution_count": 44
    }
   ],
   "source": [
    "robust.variableSettingAccuracies('OrbitingCameraControl.theta')"
   ]
  },
  {
   "cell_type": "code",
   "execution_count": 55,
   "metadata": {},
   "outputs": [
    {
     "output_type": "execute_result",
     "data": {
      "text/plain": [
       "                             rob_acc  non_rob_acc\n",
       "OrbitingCameraControl.theta                      \n",
       "-3.140000                        0.0          0.0\n",
       "-2.442222                        0.0          0.0\n",
       "-1.744444                        0.1          0.3\n",
       "-1.046667                        0.1          0.5\n",
       "-0.348889                        0.0          0.0\n",
       " 0.348889                        0.0          0.0\n",
       " 1.046667                        0.0          0.5\n",
       " 1.744444                        0.0          0.1\n",
       " 2.442222                        0.0          0.0\n",
       " 3.140000                        0.0          0.0"
      ],
      "text/html": "<div>\n<style scoped>\n    .dataframe tbody tr th:only-of-type {\n        vertical-align: middle;\n    }\n\n    .dataframe tbody tr th {\n        vertical-align: top;\n    }\n\n    .dataframe thead th {\n        text-align: right;\n    }\n</style>\n<table border=\"1\" class=\"dataframe\">\n  <thead>\n    <tr style=\"text-align: right;\">\n      <th></th>\n      <th>rob_acc</th>\n      <th>non_rob_acc</th>\n    </tr>\n    <tr>\n      <th>OrbitingCameraControl.theta</th>\n      <th></th>\n      <th></th>\n    </tr>\n  </thead>\n  <tbody>\n    <tr>\n      <th>-3.140000</th>\n      <td>0.0</td>\n      <td>0.0</td>\n    </tr>\n    <tr>\n      <th>-2.442222</th>\n      <td>0.0</td>\n      <td>0.0</td>\n    </tr>\n    <tr>\n      <th>-1.744444</th>\n      <td>0.1</td>\n      <td>0.3</td>\n    </tr>\n    <tr>\n      <th>-1.046667</th>\n      <td>0.1</td>\n      <td>0.5</td>\n    </tr>\n    <tr>\n      <th>-0.348889</th>\n      <td>0.0</td>\n      <td>0.0</td>\n    </tr>\n    <tr>\n      <th>0.348889</th>\n      <td>0.0</td>\n      <td>0.0</td>\n    </tr>\n    <tr>\n      <th>1.046667</th>\n      <td>0.0</td>\n      <td>0.5</td>\n    </tr>\n    <tr>\n      <th>1.744444</th>\n      <td>0.0</td>\n      <td>0.1</td>\n    </tr>\n    <tr>\n      <th>2.442222</th>\n      <td>0.0</td>\n      <td>0.0</td>\n    </tr>\n    <tr>\n      <th>3.140000</th>\n      <td>0.0</td>\n      <td>0.0</td>\n    </tr>\n  </tbody>\n</table>\n</div>"
     },
     "metadata": {},
     "execution_count": 55
    }
   ],
   "source": [
    "robust_acc = robust.variableSettingAccuracies('OrbitingCameraControl.theta')\n",
    "non_robust_acc  = non_robust.variableSettingAccuracies('OrbitingCameraControl.theta')\n",
    "robust_acc.rename(columns={\"accuracy\":\"rob_acc\"}, inplace=True)\n",
    "non_robust_acc.rename(columns={\"accuracy\":\"non_rob_acc\"}, inplace=True)\n",
    "joined = robust_acc.join(non_robust_acc)\n",
    "joined.sort_index(inplace=True)\n",
    "joined.to_csv('varying_theta.csv')\n",
    "joined"
   ]
  },
  {
   "cell_type": "code",
   "execution_count": 57,
   "metadata": {},
   "outputs": [
    {
     "output_type": "execute_result",
     "data": {
      "text/plain": [
       "                           rob_acc  non_rob_acc\n",
       "OrbitingCameraControl.phi                      \n",
       "0.000000                       0.0          0.0\n",
       "0.174444                       0.0          0.0\n",
       "0.348889                       0.0          0.0\n",
       "0.523333                       0.0          0.0\n",
       "0.697778                       0.0          0.2\n",
       "0.872222                       0.0          0.2\n",
       "1.046667                       0.1          0.1\n",
       "1.221111                       0.0          0.2\n",
       "1.395556                       0.0          0.3\n",
       "1.570000                       0.1          0.4"
      ],
      "text/html": "<div>\n<style scoped>\n    .dataframe tbody tr th:only-of-type {\n        vertical-align: middle;\n    }\n\n    .dataframe tbody tr th {\n        vertical-align: top;\n    }\n\n    .dataframe thead th {\n        text-align: right;\n    }\n</style>\n<table border=\"1\" class=\"dataframe\">\n  <thead>\n    <tr style=\"text-align: right;\">\n      <th></th>\n      <th>rob_acc</th>\n      <th>non_rob_acc</th>\n    </tr>\n    <tr>\n      <th>OrbitingCameraControl.phi</th>\n      <th></th>\n      <th></th>\n    </tr>\n  </thead>\n  <tbody>\n    <tr>\n      <th>0.000000</th>\n      <td>0.0</td>\n      <td>0.0</td>\n    </tr>\n    <tr>\n      <th>0.174444</th>\n      <td>0.0</td>\n      <td>0.0</td>\n    </tr>\n    <tr>\n      <th>0.348889</th>\n      <td>0.0</td>\n      <td>0.0</td>\n    </tr>\n    <tr>\n      <th>0.523333</th>\n      <td>0.0</td>\n      <td>0.0</td>\n    </tr>\n    <tr>\n      <th>0.697778</th>\n      <td>0.0</td>\n      <td>0.2</td>\n    </tr>\n    <tr>\n      <th>0.872222</th>\n      <td>0.0</td>\n      <td>0.2</td>\n    </tr>\n    <tr>\n      <th>1.046667</th>\n      <td>0.1</td>\n      <td>0.1</td>\n    </tr>\n    <tr>\n      <th>1.221111</th>\n      <td>0.0</td>\n      <td>0.2</td>\n    </tr>\n    <tr>\n      <th>1.395556</th>\n      <td>0.0</td>\n      <td>0.3</td>\n    </tr>\n    <tr>\n      <th>1.570000</th>\n      <td>0.1</td>\n      <td>0.4</td>\n    </tr>\n  </tbody>\n</table>\n</div>"
     },
     "metadata": {},
     "execution_count": 57
    }
   ],
   "source": [
    "robust_acc = robust.variableSettingAccuracies('OrbitingCameraControl.phi')\n",
    "non_robust_acc  = non_robust.variableSettingAccuracies('OrbitingCameraControl.phi')\n",
    "robust_acc.rename(columns={\"accuracy\":\"rob_acc\"}, inplace=True)\n",
    "non_robust_acc.rename(columns={\"accuracy\":\"non_rob_acc\"}, inplace=True)\n",
    "joined = robust_acc.join(non_robust_acc)\n",
    "joined.sort_index(inplace=True)\n",
    "joined.to_csv('varying_phi.csv')\n",
    "joined"
   ]
  },
  {
   "cell_type": "code",
   "execution_count": 60,
   "metadata": {},
   "outputs": [
    {
     "output_type": "execute_result",
     "data": {
      "text/plain": [
       "   is_correct       loss               prediction  \\\n",
       "0       False    5.72372                birdhouse   \n",
       "1       False   4.581645  flatworm, platyhelminth   \n",
       "2       False  3.9022677  flatworm, platyhelminth   \n",
       "3       False   4.289319  flatworm, platyhelminth   \n",
       "4       False  4.5773854  flatworm, platyhelminth   \n",
       "\n",
       "                                     id          environment          model  \\\n",
       "0  27e48cc8-9434-4931-8337-20570703c1ca  studioX_Stage.blend  025_mug.blend   \n",
       "1  c74d682c-9785-418d-bbc5-66f94afaa64d  studioX_Stage.blend  025_mug.blend   \n",
       "2  eaf7bf75-aa75-41c8-9100-125d540dc77e  studioX_Stage.blend  025_mug.blend   \n",
       "3  4b72001b-32bd-4337-bde0-fe3bdfa554ce  studioX_Stage.blend  025_mug.blend   \n",
       "4  869e9f72-a21b-4a16-a5cf-5723cbcd84d5  studioX_Stage.blend  025_mug.blend   \n",
       "\n",
       "  output_type  OrbitingCameraControl.phi  OrbitingCameraControl.theta  \\\n",
       "0     classes                        0.0                    -3.140000   \n",
       "1     classes                        0.0                    -2.442222   \n",
       "2     classes                        0.0                    -1.744444   \n",
       "3     classes                        0.0                    -1.046667   \n",
       "4     classes                        0.0                    -0.348889   \n",
       "\n",
       "   OrientationControl.rotation_x  ...  OrbitingCameraControl.radius  \\\n",
       "0                          -1.57  ...                           0.3   \n",
       "1                          -1.57  ...                           0.3   \n",
       "2                          -1.57  ...                           0.3   \n",
       "3                          -1.57  ...                           0.3   \n",
       "4                          -1.57  ...                           0.3   \n",
       "\n",
       "   SunControl.size  SunControl.intensity  SunControl.elevation  \\\n",
       "0              3.0                   1.0                  1.57   \n",
       "1              3.0                   1.0                  1.57   \n",
       "2              3.0                   1.0                  1.57   \n",
       "3              3.0                   1.0                  1.57   \n",
       "4              3.0                   1.0                  1.57   \n",
       "\n",
       "   SunControl.rotation  SunControl.altitude  SunControl.air  SunControl.dust  \\\n",
       "0                  0.0                  1.0             3.0              1.0   \n",
       "1                  0.0                  1.0             3.0              1.0   \n",
       "2                  0.0                  1.0             3.0              1.0   \n",
       "3                  0.0                  1.0             3.0              1.0   \n",
       "4                  0.0                  1.0             3.0              1.0   \n",
       "\n",
       "   SunControl.ozone  SunControl.background_strength  \n",
       "0               1.0                             0.1  \n",
       "1               1.0                             0.1  \n",
       "2               1.0                             0.1  \n",
       "3               1.0                             0.1  \n",
       "4               1.0                             0.1  \n",
       "\n",
       "[5 rows x 25 columns]"
      ],
      "text/html": "<div>\n<style scoped>\n    .dataframe tbody tr th:only-of-type {\n        vertical-align: middle;\n    }\n\n    .dataframe tbody tr th {\n        vertical-align: top;\n    }\n\n    .dataframe thead th {\n        text-align: right;\n    }\n</style>\n<table border=\"1\" class=\"dataframe\">\n  <thead>\n    <tr style=\"text-align: right;\">\n      <th></th>\n      <th>is_correct</th>\n      <th>loss</th>\n      <th>prediction</th>\n      <th>id</th>\n      <th>environment</th>\n      <th>model</th>\n      <th>output_type</th>\n      <th>OrbitingCameraControl.phi</th>\n      <th>OrbitingCameraControl.theta</th>\n      <th>OrientationControl.rotation_x</th>\n      <th>...</th>\n      <th>OrbitingCameraControl.radius</th>\n      <th>SunControl.size</th>\n      <th>SunControl.intensity</th>\n      <th>SunControl.elevation</th>\n      <th>SunControl.rotation</th>\n      <th>SunControl.altitude</th>\n      <th>SunControl.air</th>\n      <th>SunControl.dust</th>\n      <th>SunControl.ozone</th>\n      <th>SunControl.background_strength</th>\n    </tr>\n  </thead>\n  <tbody>\n    <tr>\n      <th>0</th>\n      <td>False</td>\n      <td>5.72372</td>\n      <td>birdhouse</td>\n      <td>27e48cc8-9434-4931-8337-20570703c1ca</td>\n      <td>studioX_Stage.blend</td>\n      <td>025_mug.blend</td>\n      <td>classes</td>\n      <td>0.0</td>\n      <td>-3.140000</td>\n      <td>-1.57</td>\n      <td>...</td>\n      <td>0.3</td>\n      <td>3.0</td>\n      <td>1.0</td>\n      <td>1.57</td>\n      <td>0.0</td>\n      <td>1.0</td>\n      <td>3.0</td>\n      <td>1.0</td>\n      <td>1.0</td>\n      <td>0.1</td>\n    </tr>\n    <tr>\n      <th>1</th>\n      <td>False</td>\n      <td>4.581645</td>\n      <td>flatworm, platyhelminth</td>\n      <td>c74d682c-9785-418d-bbc5-66f94afaa64d</td>\n      <td>studioX_Stage.blend</td>\n      <td>025_mug.blend</td>\n      <td>classes</td>\n      <td>0.0</td>\n      <td>-2.442222</td>\n      <td>-1.57</td>\n      <td>...</td>\n      <td>0.3</td>\n      <td>3.0</td>\n      <td>1.0</td>\n      <td>1.57</td>\n      <td>0.0</td>\n      <td>1.0</td>\n      <td>3.0</td>\n      <td>1.0</td>\n      <td>1.0</td>\n      <td>0.1</td>\n    </tr>\n    <tr>\n      <th>2</th>\n      <td>False</td>\n      <td>3.9022677</td>\n      <td>flatworm, platyhelminth</td>\n      <td>eaf7bf75-aa75-41c8-9100-125d540dc77e</td>\n      <td>studioX_Stage.blend</td>\n      <td>025_mug.blend</td>\n      <td>classes</td>\n      <td>0.0</td>\n      <td>-1.744444</td>\n      <td>-1.57</td>\n      <td>...</td>\n      <td>0.3</td>\n      <td>3.0</td>\n      <td>1.0</td>\n      <td>1.57</td>\n      <td>0.0</td>\n      <td>1.0</td>\n      <td>3.0</td>\n      <td>1.0</td>\n      <td>1.0</td>\n      <td>0.1</td>\n    </tr>\n    <tr>\n      <th>3</th>\n      <td>False</td>\n      <td>4.289319</td>\n      <td>flatworm, platyhelminth</td>\n      <td>4b72001b-32bd-4337-bde0-fe3bdfa554ce</td>\n      <td>studioX_Stage.blend</td>\n      <td>025_mug.blend</td>\n      <td>classes</td>\n      <td>0.0</td>\n      <td>-1.046667</td>\n      <td>-1.57</td>\n      <td>...</td>\n      <td>0.3</td>\n      <td>3.0</td>\n      <td>1.0</td>\n      <td>1.57</td>\n      <td>0.0</td>\n      <td>1.0</td>\n      <td>3.0</td>\n      <td>1.0</td>\n      <td>1.0</td>\n      <td>0.1</td>\n    </tr>\n    <tr>\n      <th>4</th>\n      <td>False</td>\n      <td>4.5773854</td>\n      <td>flatworm, platyhelminth</td>\n      <td>869e9f72-a21b-4a16-a5cf-5723cbcd84d5</td>\n      <td>studioX_Stage.blend</td>\n      <td>025_mug.blend</td>\n      <td>classes</td>\n      <td>0.0</td>\n      <td>-0.348889</td>\n      <td>-1.57</td>\n      <td>...</td>\n      <td>0.3</td>\n      <td>3.0</td>\n      <td>1.0</td>\n      <td>1.57</td>\n      <td>0.0</td>\n      <td>1.0</td>\n      <td>3.0</td>\n      <td>1.0</td>\n      <td>1.0</td>\n      <td>0.1</td>\n    </tr>\n  </tbody>\n</table>\n<p>5 rows × 25 columns</p>\n</div>"
     },
     "metadata": {},
     "execution_count": 60
    }
   ],
   "source": [
    "robust.df.head()"
   ]
  },
  {
   "cell_type": "code",
   "execution_count": 72,
   "metadata": {},
   "outputs": [],
   "source": [
    "robust_df = robust.df.copy()\n",
    "robust_df.columns = [str(col) + \"_rob\" for col in robust_df.columns]\n",
    "non_robust_df = non_robust.df.copy()\n",
    "non_robust_df.columns = [str(col) + \"_non_rob\" for col in non_robust_df.columns]\n",
    "import pandas as pd\n",
    "merged_df = pd.merge(non_robust_df, robust_df,  how='left', left_on=['OrbitingCameraControl.theta_non_rob','OrbitingCameraControl.phi_non_rob'], right_on = ['OrbitingCameraControl.theta_rob','OrbitingCameraControl.phi_rob'])\n",
    "merged_df.to_csv(\"merged_df.csv\")"
   ]
  },
  {
   "cell_type": "code",
   "execution_count": 73,
   "metadata": {},
   "outputs": [
    {
     "output_type": "execute_result",
     "data": {
      "text/plain": [
       "    is_correct_non_rob loss_non_rob prediction_non_rob  \\\n",
       "62               False    1.4662951                cup   \n",
       "\n",
       "                              id_non_rob  environment_non_rob  model_non_rob  \\\n",
       "62  01ccb810-7961-4060-988a-05407085be89  studioX_Stage.blend  025_mug.blend   \n",
       "\n",
       "   output_type_non_rob  OrbitingCameraControl.phi_non_rob  \\\n",
       "62             classes                           1.046667   \n",
       "\n",
       "    OrbitingCameraControl.theta_non_rob  \\\n",
       "62                            -1.744444   \n",
       "\n",
       "    OrientationControl.rotation_x_non_rob  ...  \\\n",
       "62                                  -1.57  ...   \n",
       "\n",
       "    OrbitingCameraControl.radius_rob  SunControl.size_rob  \\\n",
       "62                               0.3                  3.0   \n",
       "\n",
       "    SunControl.intensity_rob  SunControl.elevation_rob  \\\n",
       "62                       1.0                      1.57   \n",
       "\n",
       "    SunControl.rotation_rob  SunControl.altitude_rob  SunControl.air_rob  \\\n",
       "62                      0.0                      1.0                 3.0   \n",
       "\n",
       "    SunControl.dust_rob  SunControl.ozone_rob  \\\n",
       "62                  1.0                   1.0   \n",
       "\n",
       "    SunControl.background_strength_rob  \n",
       "62                                 0.1  \n",
       "\n",
       "[1 rows x 50 columns]"
      ],
      "text/html": "<div>\n<style scoped>\n    .dataframe tbody tr th:only-of-type {\n        vertical-align: middle;\n    }\n\n    .dataframe tbody tr th {\n        vertical-align: top;\n    }\n\n    .dataframe thead th {\n        text-align: right;\n    }\n</style>\n<table border=\"1\" class=\"dataframe\">\n  <thead>\n    <tr style=\"text-align: right;\">\n      <th></th>\n      <th>is_correct_non_rob</th>\n      <th>loss_non_rob</th>\n      <th>prediction_non_rob</th>\n      <th>id_non_rob</th>\n      <th>environment_non_rob</th>\n      <th>model_non_rob</th>\n      <th>output_type_non_rob</th>\n      <th>OrbitingCameraControl.phi_non_rob</th>\n      <th>OrbitingCameraControl.theta_non_rob</th>\n      <th>OrientationControl.rotation_x_non_rob</th>\n      <th>...</th>\n      <th>OrbitingCameraControl.radius_rob</th>\n      <th>SunControl.size_rob</th>\n      <th>SunControl.intensity_rob</th>\n      <th>SunControl.elevation_rob</th>\n      <th>SunControl.rotation_rob</th>\n      <th>SunControl.altitude_rob</th>\n      <th>SunControl.air_rob</th>\n      <th>SunControl.dust_rob</th>\n      <th>SunControl.ozone_rob</th>\n      <th>SunControl.background_strength_rob</th>\n    </tr>\n  </thead>\n  <tbody>\n    <tr>\n      <th>62</th>\n      <td>False</td>\n      <td>1.4662951</td>\n      <td>cup</td>\n      <td>01ccb810-7961-4060-988a-05407085be89</td>\n      <td>studioX_Stage.blend</td>\n      <td>025_mug.blend</td>\n      <td>classes</td>\n      <td>1.046667</td>\n      <td>-1.744444</td>\n      <td>-1.57</td>\n      <td>...</td>\n      <td>0.3</td>\n      <td>3.0</td>\n      <td>1.0</td>\n      <td>1.57</td>\n      <td>0.0</td>\n      <td>1.0</td>\n      <td>3.0</td>\n      <td>1.0</td>\n      <td>1.0</td>\n      <td>0.1</td>\n    </tr>\n  </tbody>\n</table>\n<p>1 rows × 50 columns</p>\n</div>"
     },
     "metadata": {},
     "execution_count": 73
    }
   ],
   "source": [
    "filter_input = {\n",
    "    'is_correct_rob': True,\n",
    "    'is_correct_non_rob': False,\n",
    "}\n",
    "output = merged_df.copy()\n",
    "for key, value in filter_input.items():\n",
    "    output = output[output[key]==value]\n",
    "output['loss_rob']"
   ]
  }
 ]
}